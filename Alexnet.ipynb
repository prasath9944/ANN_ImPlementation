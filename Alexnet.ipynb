{
  "nbformat": 4,
  "nbformat_minor": 0,
  "metadata": {
    "colab": {
      "provenance": [],
      "authorship_tag": "ABX9TyM2KaXofvwCcHLfzCyREFms",
      "include_colab_link": true
    },
    "kernelspec": {
      "name": "python3",
      "display_name": "Python 3"
    },
    "language_info": {
      "name": "python"
    }
  },
  "cells": [
    {
      "cell_type": "markdown",
      "metadata": {
        "id": "view-in-github",
        "colab_type": "text"
      },
      "source": [
        "<a href=\"https://colab.research.google.com/github/prasath9944/ANN_ImPlementation/blob/main/Alexnet.ipynb\" target=\"_parent\"><img src=\"https://colab.research.google.com/assets/colab-badge.svg\" alt=\"Open In Colab\"/></a>"
      ]
    },
    {
      "cell_type": "code",
      "execution_count": 8,
      "metadata": {
        "id": "Y2txymecFJD-"
      },
      "outputs": [],
      "source": [
        "import tensorflow as tf\n",
        "from tensorflow import keras\n",
        "import keras\n",
        "from keras.models import Sequential\n",
        "from keras.layers import Dense, Activation, Dropout, Flatten, Conv2D, MaxPooling2D\n",
        "from tensorflow.keras.layers import BatchNormalization"
      ]
    },
    {
      "cell_type": "code",
      "source": [
        "!pip install tflearn"
      ],
      "metadata": {
        "colab": {
          "base_uri": "https://localhost:8080/"
        },
        "id": "6Y1dU6u1HOqD",
        "outputId": "fa2f4024-4d18-469f-aa18-cf92641dd543"
      },
      "execution_count": 2,
      "outputs": [
        {
          "output_type": "stream",
          "name": "stdout",
          "text": [
            "Looking in indexes: https://pypi.org/simple, https://us-python.pkg.dev/colab-wheels/public/simple/\n",
            "Collecting tflearn\n",
            "  Downloading tflearn-0.5.0.tar.gz (107 kB)\n",
            "\u001b[2K     \u001b[90m━━━━━━━━━━━━━━━━━━━━━━━━━━━━━━━━━━━━━━━\u001b[0m \u001b[32m107.3/107.3 KB\u001b[0m \u001b[31m3.9 MB/s\u001b[0m eta \u001b[36m0:00:00\u001b[0m\n",
            "\u001b[?25h  Preparing metadata (setup.py) ... \u001b[?25l\u001b[?25hdone\n",
            "Requirement already satisfied: numpy in /usr/local/lib/python3.8/dist-packages (from tflearn) (1.21.6)\n",
            "Requirement already satisfied: six in /usr/local/lib/python3.8/dist-packages (from tflearn) (1.15.0)\n",
            "Requirement already satisfied: Pillow in /usr/local/lib/python3.8/dist-packages (from tflearn) (7.1.2)\n",
            "Building wheels for collected packages: tflearn\n",
            "  Building wheel for tflearn (setup.py) ... \u001b[?25l\u001b[?25hdone\n",
            "  Created wheel for tflearn: filename=tflearn-0.5.0-py3-none-any.whl size=127299 sha256=e6bc733c790a85fbfe01781a8d5e340e3ed1ced9d17dbb1de1349a05c9bcd123\n",
            "  Stored in directory: /root/.cache/pip/wheels/65/9b/15/cb1e6b279c14ed897530d15cfd7da8e3df8a947e593f5cfe59\n",
            "Successfully built tflearn\n",
            "Installing collected packages: tflearn\n",
            "Successfully installed tflearn-0.5.0\n"
          ]
        }
      ]
    },
    {
      "cell_type": "code",
      "source": [
        "# get data\n",
        "import tflearn.datasets.oxflower17 as oxflower17\n",
        "x,y=oxflower17.load_data(one_hot=True)"
      ],
      "metadata": {
        "colab": {
          "base_uri": "https://localhost:8080/"
        },
        "id": "dPyNf0UnHTFQ",
        "outputId": "ecba02a8-1f51-4228-981a-0eb767d6ffd0"
      },
      "execution_count": 3,
      "outputs": [
        {
          "output_type": "stream",
          "name": "stderr",
          "text": [
            "WARNING:tensorflow:From /usr/local/lib/python3.8/dist-packages/tensorflow/python/compat/v2_compat.py:107: disable_resource_variables (from tensorflow.python.ops.variable_scope) is deprecated and will be removed in a future version.\n",
            "Instructions for updating:\n",
            "non-resource variables are not supported in the long term\n"
          ]
        },
        {
          "output_type": "stream",
          "name": "stdout",
          "text": [
            "Downloading Oxford 17 category Flower Dataset, Please wait...\n"
          ]
        },
        {
          "output_type": "stream",
          "name": "stderr",
          "text": [
            "100.0% 60276736 / 60270631\n"
          ]
        },
        {
          "output_type": "stream",
          "name": "stdout",
          "text": [
            "Succesfully downloaded 17flowers.tgz 60270631 bytes.\n",
            "File Extracted\n",
            "Starting to parse images...\n",
            "Parsing Done!\n"
          ]
        }
      ]
    },
    {
      "cell_type": "code",
      "source": [
        "x"
      ],
      "metadata": {
        "colab": {
          "base_uri": "https://localhost:8080/"
        },
        "id": "DrbnpoHUHo6v",
        "outputId": "09fe48c1-2bfc-4847-fe6f-9d34d7deb872"
      },
      "execution_count": 4,
      "outputs": [
        {
          "output_type": "execute_result",
          "data": {
            "text/plain": [
              "array([[[[0.34509805, 0.3019608 , 0.31764707],\n",
              "         [0.36078432, 0.31764707, 0.33333334],\n",
              "         [0.38431373, 0.3372549 , 0.3529412 ],\n",
              "         ...,\n",
              "         [0.0627451 , 0.0627451 , 0.07058824],\n",
              "         [0.0627451 , 0.0627451 , 0.07058824],\n",
              "         [0.0627451 , 0.0627451 , 0.07058824]],\n",
              "\n",
              "        [[0.3647059 , 0.30980393, 0.32941177],\n",
              "         [0.3764706 , 0.32156864, 0.34117648],\n",
              "         [0.39607844, 0.34117648, 0.35686275],\n",
              "         ...,\n",
              "         [0.07058824, 0.07058824, 0.07843138],\n",
              "         [0.06666667, 0.06666667, 0.07450981],\n",
              "         [0.06666667, 0.06666667, 0.07450981]],\n",
              "\n",
              "        [[0.38039216, 0.31764707, 0.3372549 ],\n",
              "         [0.39215687, 0.33333334, 0.34901962],\n",
              "         [0.40784314, 0.34509805, 0.3647059 ],\n",
              "         ...,\n",
              "         [0.07450981, 0.07450981, 0.08235294],\n",
              "         [0.07058824, 0.07058824, 0.07843138],\n",
              "         [0.07058824, 0.07058824, 0.07843138]],\n",
              "\n",
              "        ...,\n",
              "\n",
              "        [[0.05490196, 0.05098039, 0.07058824],\n",
              "         [0.05490196, 0.05098039, 0.07058824],\n",
              "         [0.05490196, 0.05098039, 0.07058824],\n",
              "         ...,\n",
              "         [0.4117647 , 0.38431373, 0.45490196],\n",
              "         [0.36862746, 0.34117648, 0.41960785],\n",
              "         [0.34117648, 0.30980393, 0.39215687]],\n",
              "\n",
              "        [[0.05882353, 0.05490196, 0.07450981],\n",
              "         [0.05882353, 0.05490196, 0.07450981],\n",
              "         [0.05882353, 0.05490196, 0.07450981],\n",
              "         ...,\n",
              "         [0.43529412, 0.40392157, 0.48235294],\n",
              "         [0.4       , 0.36862746, 0.4509804 ],\n",
              "         [0.3764706 , 0.34509805, 0.42745098]],\n",
              "\n",
              "        [[0.06666667, 0.0627451 , 0.08235294],\n",
              "         [0.06666667, 0.0627451 , 0.08235294],\n",
              "         [0.06666667, 0.0627451 , 0.08235294],\n",
              "         ...,\n",
              "         [0.44705883, 0.41568628, 0.5019608 ],\n",
              "         [0.42352942, 0.39215687, 0.47843137],\n",
              "         [0.40784314, 0.3764706 , 0.45882353]]],\n",
              "\n",
              "\n",
              "       [[[0.10588235, 0.21960784, 0.04705882],\n",
              "         [0.10588235, 0.21960784, 0.04705882],\n",
              "         [0.10196079, 0.22352941, 0.05098039],\n",
              "         ...,\n",
              "         [0.10196079, 0.2627451 , 0.04313726],\n",
              "         [0.10196079, 0.2627451 , 0.04313726],\n",
              "         [0.10196079, 0.2627451 , 0.04313726]],\n",
              "\n",
              "        [[0.10588235, 0.21960784, 0.04705882],\n",
              "         [0.10588235, 0.21960784, 0.04705882],\n",
              "         [0.10588235, 0.22352941, 0.05098039],\n",
              "         ...,\n",
              "         [0.10196079, 0.2627451 , 0.04313726],\n",
              "         [0.10196079, 0.2627451 , 0.04313726],\n",
              "         [0.10196079, 0.2627451 , 0.04313726]],\n",
              "\n",
              "        [[0.10588235, 0.21960784, 0.04705882],\n",
              "         [0.10588235, 0.22352941, 0.05098039],\n",
              "         [0.10588235, 0.22352941, 0.05098039],\n",
              "         ...,\n",
              "         [0.10196079, 0.2627451 , 0.04313726],\n",
              "         [0.10196079, 0.2627451 , 0.04313726],\n",
              "         [0.10196079, 0.2627451 , 0.04313726]],\n",
              "\n",
              "        ...,\n",
              "\n",
              "        [[0.11372549, 0.25882354, 0.05882353],\n",
              "         [0.11372549, 0.25882354, 0.05882353],\n",
              "         [0.11372549, 0.25882354, 0.05882353],\n",
              "         ...,\n",
              "         [0.07450981, 0.18431373, 0.03529412],\n",
              "         [0.07058824, 0.1882353 , 0.03137255],\n",
              "         [0.07450981, 0.19607843, 0.03529412]],\n",
              "\n",
              "        [[0.12156863, 0.27450982, 0.07058824],\n",
              "         [0.12156863, 0.27450982, 0.07058824],\n",
              "         [0.12156863, 0.27450982, 0.07058824],\n",
              "         ...,\n",
              "         [0.07450981, 0.18431373, 0.03529412],\n",
              "         [0.07058824, 0.1882353 , 0.03137255],\n",
              "         [0.07450981, 0.19607843, 0.03529412]],\n",
              "\n",
              "        [[0.13333334, 0.2901961 , 0.07843138],\n",
              "         [0.13333334, 0.2901961 , 0.07843138],\n",
              "         [0.13333334, 0.2901961 , 0.07843138],\n",
              "         ...,\n",
              "         [0.07450981, 0.18431373, 0.03529412],\n",
              "         [0.07450981, 0.19215687, 0.03529412],\n",
              "         [0.07843138, 0.2       , 0.03921569]]],\n",
              "\n",
              "\n",
              "       [[[0.03529412, 0.03529412, 0.00784314],\n",
              "         [0.02745098, 0.04705882, 0.04705882],\n",
              "         [0.00784314, 0.03137255, 0.05490196],\n",
              "         ...,\n",
              "         [0.09803922, 0.09411765, 0.10588235],\n",
              "         [0.08627451, 0.09803922, 0.13725491],\n",
              "         [0.02352941, 0.03529412, 0.08235294]],\n",
              "\n",
              "        [[0.01568628, 0.05098039, 0.03529412],\n",
              "         [0.09019608, 0.16078432, 0.1764706 ],\n",
              "         [0.10196079, 0.18431373, 0.21960784],\n",
              "         ...,\n",
              "         [0.78039217, 0.84705883, 0.9098039 ],\n",
              "         [0.75686276, 0.78431374, 0.8235294 ],\n",
              "         [0.09411765, 0.10196079, 0.14901961]],\n",
              "\n",
              "        [[0.        , 0.04705882, 0.07450981],\n",
              "         [0.08627451, 0.1882353 , 0.23921569],\n",
              "         [0.14509805, 0.27058825, 0.33333334],\n",
              "         ...,\n",
              "         [0.7764706 , 0.9098039 , 1.        ],\n",
              "         [0.7882353 , 0.83137256, 0.8980392 ],\n",
              "         [0.09803922, 0.09803922, 0.15294118]],\n",
              "\n",
              "        ...,\n",
              "\n",
              "        [[0.01568628, 0.03921569, 0.01960784],\n",
              "         [0.13333334, 0.16078432, 0.14117648],\n",
              "         [0.15294118, 0.18039216, 0.15294118],\n",
              "         ...,\n",
              "         [0.14901961, 0.16470589, 0.13333334],\n",
              "         [0.16470589, 0.16862746, 0.16470589],\n",
              "         [0.03137255, 0.03137255, 0.03529412]],\n",
              "\n",
              "        [[0.02352941, 0.03921569, 0.02745098],\n",
              "         [0.10980392, 0.12941177, 0.11372549],\n",
              "         [0.1254902 , 0.14509805, 0.13333334],\n",
              "         ...,\n",
              "         [0.13725491, 0.14117648, 0.13725491],\n",
              "         [0.14901961, 0.15294118, 0.16078432],\n",
              "         [0.03921569, 0.03921569, 0.04705882]],\n",
              "\n",
              "        [[0.00392157, 0.01960784, 0.00392157],\n",
              "         [0.02352941, 0.03921569, 0.02352941],\n",
              "         [0.01960784, 0.03921569, 0.02352941],\n",
              "         ...,\n",
              "         [0.03529412, 0.03921569, 0.03137255],\n",
              "         [0.02745098, 0.03137255, 0.03137255],\n",
              "         [0.00784314, 0.00784314, 0.01568628]]],\n",
              "\n",
              "\n",
              "       ...,\n",
              "\n",
              "\n",
              "       [[[0.04313726, 0.05490196, 0.02745098],\n",
              "         [0.03921569, 0.05490196, 0.01176471],\n",
              "         [0.03529412, 0.0627451 , 0.00392157],\n",
              "         ...,\n",
              "         [0.07843138, 0.04705882, 0.        ],\n",
              "         [0.08627451, 0.05490196, 0.00392157],\n",
              "         [0.08235294, 0.05098039, 0.        ]],\n",
              "\n",
              "        [[0.04705882, 0.05490196, 0.02745098],\n",
              "         [0.02352941, 0.03921569, 0.        ],\n",
              "         [0.04705882, 0.07450981, 0.01568628],\n",
              "         ...,\n",
              "         [0.07843138, 0.04705882, 0.        ],\n",
              "         [0.08627451, 0.05490196, 0.00392157],\n",
              "         [0.08235294, 0.05098039, 0.        ]],\n",
              "\n",
              "        [[0.04705882, 0.05882353, 0.03137255],\n",
              "         [0.03921569, 0.05490196, 0.01176471],\n",
              "         [0.09019608, 0.11764706, 0.05098039],\n",
              "         ...,\n",
              "         [0.07843138, 0.04705882, 0.        ],\n",
              "         [0.08627451, 0.05490196, 0.00392157],\n",
              "         [0.08235294, 0.05098039, 0.        ]],\n",
              "\n",
              "        ...,\n",
              "\n",
              "        [[0.20784314, 0.24705882, 0.08235294],\n",
              "         [0.19215687, 0.23529412, 0.06666667],\n",
              "         [0.18039216, 0.22352941, 0.05490196],\n",
              "         ...,\n",
              "         [0.30588236, 0.2       , 0.        ],\n",
              "         [0.26666668, 0.16862746, 0.01568628],\n",
              "         [0.2       , 0.10980392, 0.01568628]],\n",
              "\n",
              "        [[0.19215687, 0.2627451 , 0.08235294],\n",
              "         [0.1882353 , 0.23921569, 0.06666667],\n",
              "         [0.18039216, 0.21176471, 0.04705882],\n",
              "         ...,\n",
              "         [0.3137255 , 0.2       , 0.        ],\n",
              "         [0.24705882, 0.15686275, 0.00784314],\n",
              "         [0.18039216, 0.10980392, 0.01568628]],\n",
              "\n",
              "        [[0.15686275, 0.23137255, 0.05098039],\n",
              "         [0.16862746, 0.22352941, 0.05098039],\n",
              "         [0.18039216, 0.20784314, 0.04313726],\n",
              "         ...,\n",
              "         [0.32156864, 0.2       , 0.00784314],\n",
              "         [0.24705882, 0.15686275, 0.01176471],\n",
              "         [0.21960784, 0.15294118, 0.04313726]]],\n",
              "\n",
              "\n",
              "       [[[0.08235294, 0.09411765, 0.05882353],\n",
              "         [0.08235294, 0.09411765, 0.05882353],\n",
              "         [0.08235294, 0.09411765, 0.05882353],\n",
              "         ...,\n",
              "         [0.2784314 , 0.2901961 , 0.20392157],\n",
              "         [0.3019608 , 0.30980393, 0.23529412],\n",
              "         [0.3137255 , 0.31764707, 0.24705882]],\n",
              "\n",
              "        [[0.08235294, 0.09411765, 0.05882353],\n",
              "         [0.08235294, 0.09411765, 0.05882353],\n",
              "         [0.08235294, 0.09411765, 0.05882353],\n",
              "         ...,\n",
              "         [0.23921569, 0.2509804 , 0.18039216],\n",
              "         [0.27058825, 0.27450982, 0.20392157],\n",
              "         [0.28235295, 0.28627452, 0.21960784]],\n",
              "\n",
              "        [[0.08235294, 0.09411765, 0.05882353],\n",
              "         [0.08627451, 0.09803922, 0.0627451 ],\n",
              "         [0.08627451, 0.09803922, 0.0627451 ],\n",
              "         ...,\n",
              "         [0.19215687, 0.20392157, 0.13725491],\n",
              "         [0.22352941, 0.23137255, 0.16862746],\n",
              "         [0.23921569, 0.24313726, 0.18431373]],\n",
              "\n",
              "        ...,\n",
              "\n",
              "        [[0.01176471, 0.01176471, 0.01176471],\n",
              "         [0.01176471, 0.01176471, 0.01176471],\n",
              "         [0.01176471, 0.01176471, 0.01176471],\n",
              "         ...,\n",
              "         [0.01960784, 0.00784314, 0.        ],\n",
              "         [0.01960784, 0.01568628, 0.00784314],\n",
              "         [0.01960784, 0.01568628, 0.00784314]],\n",
              "\n",
              "        [[0.01176471, 0.01176471, 0.01176471],\n",
              "         [0.01176471, 0.01176471, 0.01176471],\n",
              "         [0.01176471, 0.01176471, 0.01176471],\n",
              "         ...,\n",
              "         [0.03137255, 0.01960784, 0.01568628],\n",
              "         [0.03137255, 0.02745098, 0.01960784],\n",
              "         [0.03529412, 0.03137255, 0.02352941]],\n",
              "\n",
              "        [[0.01176471, 0.01176471, 0.01176471],\n",
              "         [0.01176471, 0.01176471, 0.01176471],\n",
              "         [0.01176471, 0.01176471, 0.01176471],\n",
              "         ...,\n",
              "         [0.04313726, 0.03137255, 0.02745098],\n",
              "         [0.05098039, 0.04313726, 0.03529412],\n",
              "         [0.05490196, 0.05098039, 0.04313726]]],\n",
              "\n",
              "\n",
              "       [[[0.19607843, 0.23137255, 0.05490196],\n",
              "         [0.19607843, 0.23137255, 0.05490196],\n",
              "         [0.19607843, 0.23137255, 0.05490196],\n",
              "         ...,\n",
              "         [0.20784314, 0.21960784, 0.09803922],\n",
              "         [0.21176471, 0.22352941, 0.10196079],\n",
              "         [0.21568628, 0.22745098, 0.10588235]],\n",
              "\n",
              "        [[0.19607843, 0.23137255, 0.05490196],\n",
              "         [0.19607843, 0.23137255, 0.05490196],\n",
              "         [0.19607843, 0.23137255, 0.05490196],\n",
              "         ...,\n",
              "         [0.20784314, 0.21960784, 0.09803922],\n",
              "         [0.21176471, 0.22352941, 0.10196079],\n",
              "         [0.21568628, 0.22745098, 0.10588235]],\n",
              "\n",
              "        [[0.19607843, 0.23137255, 0.05490196],\n",
              "         [0.19607843, 0.23137255, 0.05490196],\n",
              "         [0.19607843, 0.23137255, 0.05490196],\n",
              "         ...,\n",
              "         [0.20392157, 0.21568628, 0.09411765],\n",
              "         [0.20784314, 0.21960784, 0.09803922],\n",
              "         [0.21176471, 0.22352941, 0.10196079]],\n",
              "\n",
              "        ...,\n",
              "\n",
              "        [[0.44705883, 0.5058824 , 0.23529412],\n",
              "         [0.4392157 , 0.49803922, 0.22745098],\n",
              "         [0.43137255, 0.49019608, 0.22745098],\n",
              "         ...,\n",
              "         [0.1764706 , 0.22352941, 0.06666667],\n",
              "         [0.16862746, 0.21568628, 0.05882353],\n",
              "         [0.16470589, 0.21176471, 0.05490196]],\n",
              "\n",
              "        [[0.44313726, 0.5019608 , 0.23137255],\n",
              "         [0.4392157 , 0.49803922, 0.23137255],\n",
              "         [0.43529412, 0.49411765, 0.23137255],\n",
              "         ...,\n",
              "         [0.18039216, 0.22745098, 0.07058824],\n",
              "         [0.17254902, 0.21960784, 0.0627451 ],\n",
              "         [0.16862746, 0.21568628, 0.05882353]],\n",
              "\n",
              "        [[0.44313726, 0.5019608 , 0.23137255],\n",
              "         [0.4392157 , 0.49803922, 0.23137255],\n",
              "         [0.43529412, 0.49411765, 0.23137255],\n",
              "         ...,\n",
              "         [0.18039216, 0.22745098, 0.07058824],\n",
              "         [0.17254902, 0.21960784, 0.0627451 ],\n",
              "         [0.16862746, 0.21568628, 0.05882353]]]], dtype=float32)"
            ]
          },
          "metadata": {},
          "execution_count": 4
        }
      ]
    },
    {
      "cell_type": "code",
      "source": [
        "x.shape"
      ],
      "metadata": {
        "colab": {
          "base_uri": "https://localhost:8080/"
        },
        "id": "1xstZjV7Hrxf",
        "outputId": "b779b294-61c1-439d-8b9e-b9d6b100a6f4"
      },
      "execution_count": 5,
      "outputs": [
        {
          "output_type": "execute_result",
          "data": {
            "text/plain": [
              "(1360, 224, 224, 3)"
            ]
          },
          "metadata": {},
          "execution_count": 5
        }
      ]
    },
    {
      "cell_type": "code",
      "source": [
        "y.shape"
      ],
      "metadata": {
        "colab": {
          "base_uri": "https://localhost:8080/"
        },
        "id": "M3_ZySgbHwlo",
        "outputId": "643a166a-ad43-418a-abd1-2c1efc9d819b"
      },
      "execution_count": 6,
      "outputs": [
        {
          "output_type": "execute_result",
          "data": {
            "text/plain": [
              "(1360, 17)"
            ]
          },
          "metadata": {},
          "execution_count": 6
        }
      ]
    },
    {
      "cell_type": "code",
      "source": [
        "# Create a sequential model\n",
        "model = Sequential()\n",
        "\n",
        "# 1st Convolutional Layer\n",
        "model.add(Conv2D(filters=96, input_shape=(224,224,3), kernel_size=(11,11), strides=(4,4), padding='valid'))\n",
        "model.add(Activation('relu'))\n",
        "\n",
        "# Pooling \n",
        "model.add(MaxPooling2D(pool_size=(3,3), strides=(2,2), padding='valid'))\n",
        "# Batch Normalisation before passing it to the next layer\n",
        "model.add(BatchNormalization())\n",
        "\n",
        "# 2nd Convolutional Layer\n",
        "model.add(Conv2D(filters=256, kernel_size=(5,5), strides=(1,1), padding='same'))\n",
        "model.add(Activation('relu'))\n",
        "\n",
        "# Pooling\n",
        "model.add(MaxPooling2D(pool_size=(3,3), strides=(2,2), padding='valid'))\n",
        "# Batch Normalisation\n",
        "model.add(BatchNormalization())\n",
        "\n",
        "\n",
        "\n",
        "# 3rd Convolutional Layer\n",
        "model.add(Conv2D(filters=384, kernel_size=(3,3), strides=(1,1), padding='valid'))\n",
        "model.add(Activation('relu'))\n",
        "# Batch Normalisation\n",
        "model.add(BatchNormalization())\n",
        "\n",
        "# 4th Convolutional Layer\n",
        "model.add(Conv2D(filters=384, kernel_size=(3,3), strides=(1,1), padding='valid'))\n",
        "model.add(Activation('relu'))\n",
        "# Batch Normalisation\n",
        "model.add(BatchNormalization())\n",
        "\n",
        "\n",
        "# 5th Convolutional Layer\n",
        "model.add(Conv2D(filters=256, kernel_size=(3,3), strides=(1,1), padding='valid'))\n",
        "model.add(Activation('relu'))\n",
        "\n",
        "\n",
        "# Pooling\n",
        "model.add(MaxPooling2D(pool_size=(3,3), strides=(2,2), padding='valid'))\n",
        "# Batch Normalisation\n",
        "model.add(BatchNormalization())\n",
        "\n",
        "\n",
        "# Passing it to a dense layer\n",
        "model.add(Flatten())\n",
        "\n",
        "# 1st Dense Layer\n",
        "model.add(Dense(4096, input_shape=(224*224*3,)))\n",
        "model.add(Activation('relu'))\n",
        "# Add Dropout to prevent overfitting\n",
        "model.add(Dropout(0.4))\n",
        "# Batch Normalisation\n",
        "model.add(BatchNormalization())\n",
        "\n",
        "# 2nd Dense Layer\n",
        "model.add(Dense(4096))\n",
        "model.add(Activation('relu'))\n",
        "# Add Dropout\n",
        "model.add(Dropout(0.4))\n",
        "# Batch Normalisation\n",
        "model.add(BatchNormalization())\n",
        "\n",
        "# Output Layer\n",
        "model.add(Dense(17))\n",
        "model.add(Activation('softmax'))\n",
        "\n",
        "model.summary()\n"
      ],
      "metadata": {
        "colab": {
          "base_uri": "https://localhost:8080/"
        },
        "id": "0GS_liMUHxPz",
        "outputId": "359ae515-4136-4727-b238-0fda751c0bd3"
      },
      "execution_count": 9,
      "outputs": [
        {
          "output_type": "stream",
          "name": "stderr",
          "text": [
            "WARNING:tensorflow:From /usr/local/lib/python3.8/dist-packages/keras/layers/normalization/batch_normalization.py:514: _colocate_with (from tensorflow.python.framework.ops) is deprecated and will be removed in a future version.\n",
            "Instructions for updating:\n",
            "Colocations handled automatically by placer.\n"
          ]
        },
        {
          "output_type": "stream",
          "name": "stdout",
          "text": [
            "Model: \"sequential_1\"\n",
            "_________________________________________________________________\n",
            " Layer (type)                Output Shape              Param #   \n",
            "=================================================================\n",
            " conv2d_1 (Conv2D)           (None, 54, 54, 96)        34944     \n",
            "                                                                 \n",
            " activation (Activation)     (None, 54, 54, 96)        0         \n",
            "                                                                 \n",
            " max_pooling2d (MaxPooling2D  (None, 26, 26, 96)       0         \n",
            " )                                                               \n",
            "                                                                 \n",
            " batch_normalization (BatchN  (None, 26, 26, 96)       384       \n",
            " ormalization)                                                   \n",
            "                                                                 \n",
            " conv2d_2 (Conv2D)           (None, 26, 26, 256)       614656    \n",
            "                                                                 \n",
            " activation_1 (Activation)   (None, 26, 26, 256)       0         \n",
            "                                                                 \n",
            " max_pooling2d_1 (MaxPooling  (None, 12, 12, 256)      0         \n",
            " 2D)                                                             \n",
            "                                                                 \n",
            " batch_normalization_1 (Batc  (None, 12, 12, 256)      1024      \n",
            " hNormalization)                                                 \n",
            "                                                                 \n",
            " conv2d_3 (Conv2D)           (None, 10, 10, 384)       885120    \n",
            "                                                                 \n",
            " activation_2 (Activation)   (None, 10, 10, 384)       0         \n",
            "                                                                 \n",
            " batch_normalization_2 (Batc  (None, 10, 10, 384)      1536      \n",
            " hNormalization)                                                 \n",
            "                                                                 \n",
            " conv2d_4 (Conv2D)           (None, 8, 8, 384)         1327488   \n",
            "                                                                 \n",
            " activation_3 (Activation)   (None, 8, 8, 384)         0         \n",
            "                                                                 \n",
            " batch_normalization_3 (Batc  (None, 8, 8, 384)        1536      \n",
            " hNormalization)                                                 \n",
            "                                                                 \n",
            " conv2d_5 (Conv2D)           (None, 6, 6, 256)         884992    \n",
            "                                                                 \n",
            " activation_4 (Activation)   (None, 6, 6, 256)         0         \n",
            "                                                                 \n",
            " max_pooling2d_2 (MaxPooling  (None, 2, 2, 256)        0         \n",
            " 2D)                                                             \n",
            "                                                                 \n",
            " batch_normalization_4 (Batc  (None, 2, 2, 256)        1024      \n",
            " hNormalization)                                                 \n",
            "                                                                 \n",
            " flatten (Flatten)           (None, 1024)              0         \n",
            "                                                                 \n",
            " dense (Dense)               (None, 4096)              4198400   \n",
            "                                                                 \n",
            " activation_5 (Activation)   (None, 4096)              0         \n",
            "                                                                 \n",
            " dropout (Dropout)           (None, 4096)              0         \n",
            "                                                                 \n",
            " batch_normalization_5 (Batc  (None, 4096)             16384     \n",
            " hNormalization)                                                 \n",
            "                                                                 \n",
            " dense_1 (Dense)             (None, 4096)              16781312  \n",
            "                                                                 \n",
            " activation_6 (Activation)   (None, 4096)              0         \n",
            "                                                                 \n",
            " dropout_1 (Dropout)         (None, 4096)              0         \n",
            "                                                                 \n",
            " batch_normalization_6 (Batc  (None, 4096)             16384     \n",
            " hNormalization)                                                 \n",
            "                                                                 \n",
            " dense_2 (Dense)             (None, 17)                69649     \n",
            "                                                                 \n",
            " activation_7 (Activation)   (None, 17)                0         \n",
            "                                                                 \n",
            "=================================================================\n",
            "Total params: 24,834,833\n",
            "Trainable params: 24,815,697\n",
            "Non-trainable params: 19,136\n",
            "_________________________________________________________________\n"
          ]
        }
      ]
    },
    {
      "cell_type": "code",
      "source": [
        "# Compile \n",
        "opt = tf.optimizers.Adam(learning_rate = 0.01)\n",
        "model.compile(loss='categorical_crossentropy', optimizer=opt, metrics=['accuracy'])"
      ],
      "metadata": {
        "id": "RPDXw8DIJOOT"
      },
      "execution_count": 10,
      "outputs": []
    },
    {
      "cell_type": "code",
      "source": [
        "# Train\n",
        "model.fit(x, y, batch_size=64, epochs=5, verbose=1,validation_split=0.2, shuffle=True)"
      ],
      "metadata": {
        "colab": {
          "base_uri": "https://localhost:8080/"
        },
        "id": "6vsrsq5TJZ4O",
        "outputId": "003198ff-1325-4f27-e0df-454bf23dd760"
      },
      "execution_count": null,
      "outputs": [
        {
          "output_type": "stream",
          "name": "stdout",
          "text": [
            "Train on 1088 samples, validate on 272 samples\n",
            "Epoch 1/5\n",
            "1088/1088 [==============================] - ETA: 0s - loss: 10.0080 - acc: 0.1489"
          ]
        },
        {
          "output_type": "stream",
          "name": "stderr",
          "text": [
            "/usr/local/lib/python3.8/dist-packages/keras/engine/training_v1.py:2045: UserWarning: `Model.state_updates` will be removed in a future version. This property should not be used in TensorFlow 2.0, as `updates` are applied automatically.\n",
            "  updates = self.state_updates\n"
          ]
        },
        {
          "output_type": "stream",
          "name": "stdout",
          "text": [
            "\b\b\b\b\b\b\b\b\b\b\b\b\b\b\b\b\b\b\b\b\b\b\b\b\b\b\b\b\b\b\b\b\b\b\b\b\b\b\b\b\b\b\b\b\b\b\b\b\b\b\b\b\b\b\b\b\b\b\b\b\b\b\b\b\b\b\b\b\b\b\b\b\b\b\b\b\b\b\b\b\b\b\r1088/1088 [==============================] - 103s 94ms/sample - loss: 10.0080 - acc: 0.1489 - val_loss: 157618.6489 - val_acc: 0.0735\n",
            "Epoch 2/5\n",
            " 576/1088 [==============>...............] - ETA: 43s - loss: 6.1749 - acc: 0.2222"
          ]
        }
      ]
    },
    {
      "cell_type": "code",
      "source": [],
      "metadata": {
        "id": "yFyl4I7mJb2Z"
      },
      "execution_count": null,
      "outputs": []
    }
  ]
}